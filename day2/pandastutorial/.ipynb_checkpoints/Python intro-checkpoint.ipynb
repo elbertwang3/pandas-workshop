{
 "cells": [
  {
   "cell_type": "markdown",
   "metadata": {},
   "source": [
    "## Intro to Python\n",
    "#### Why would you use python?\n",
    "* Automate and document routine work\n",
    "* Analyze data in a replicable, documented way\n",
    "* Build cool web stuff\n",
    "* It's fun!\n",
    "\n",
    "Open Terminal on a Mac (though i use iTerm) or CMDR or other bash shell on Windows.\n",
    "\n",
    "Type: python (you'll get a python command line, >>>)\n",
    "\n",
    "Type: 2+3\n",
    "\n",
    "Type: import this\n",
    "\n",
    "Type: CTRL+d\n",
    "\n",
    "OK, you could do stuff in there all day.\n",
    "\n",
    "Or you could put code in a text file with the .py extension and run it from the command line (python filename.py).\n",
    "\n",
    "But we're going to use Jupyter notebook.\n",
    "\n",
    "### Why use Jupyter notebook?\n",
    "\n",
    "* Test your code line by line\n",
    "* Rewrite it immediately when you err (and you will err)\n",
    "* You can document/explain more extensively using markdown (what you're reading here)\n",
    "* Reuse, reuse, reuse\n",
    "\n",
    "So let's try those two things again!\n"
   ]
  },
  {
   "cell_type": "code",
   "execution_count": null,
   "metadata": {},
   "outputs": [],
   "source": []
  },
  {
   "cell_type": "code",
   "execution_count": null,
   "metadata": {},
   "outputs": [],
   "source": []
  },
  {
   "cell_type": "code",
   "execution_count": null,
   "metadata": {},
   "outputs": [],
   "source": []
  },
  {
   "cell_type": "markdown",
   "metadata": {},
   "source": [
    "### To err is expected.\n",
    "Oops! That didn't work.\n",
    "\n",
    "But this is the first of many errors you (and especially i!) will make in Python. In part, because we are typing (check the number of times i type pring instead of print). Also, because it's complicated.\n",
    "\n",
    "So a few quick error tips:\n",
    "\n",
    "* Proofread your code like a copy editor. Errors often result from misspellings, misplaced punctuation, etc.\n",
    "* Google the error message + Python\n",
    "* Use stackoverflow.com to search the error message or ask questions.\n",
    "* So let's try using some quotes and parentheses around that word instead."
   ]
  },
  {
   "cell_type": "code",
   "execution_count": null,
   "metadata": {},
   "outputs": [],
   "source": []
  },
  {
   "cell_type": "code",
   "execution_count": null,
   "metadata": {},
   "outputs": [],
   "source": []
  },
  {
   "cell_type": "markdown",
   "metadata": {},
   "source": [
    "Data types are important in Python. Strings - generally text or things you won't do math on (like zip codes) - get quote marks around them. Numerals don't get quotes, and come in two types, floating-point (decimal) and integers. Then there's Boolean, a true/false type.\n",
    "\n",
    "But rarely will we simply type in some numbers to add, subtract, multiply and/or divide. Calculators work for that.\n",
    "\n",
    "Programming in Python (or any language, really) works by creating building blocks to achieve our goals.\n",
    "\n",
    "The first of these blocks is a variable. And it's pretty straightforward: variable_name = 'some type of info'."
   ]
  },
  {
   "cell_type": "code",
   "execution_count": null,
   "metadata": {},
   "outputs": [],
   "source": []
  },
  {
   "cell_type": "code",
   "execution_count": null,
   "metadata": {},
   "outputs": [],
   "source": []
  },
  {
   "cell_type": "code",
   "execution_count": null,
   "metadata": {},
   "outputs": [],
   "source": []
  },
  {
   "cell_type": "code",
   "execution_count": null,
   "metadata": {},
   "outputs": [],
   "source": []
  },
  {
   "cell_type": "markdown",
   "metadata": {},
   "source": [
    "Note that it doesn't really matter whether you use single or double quotes. If you have questions about this or other Python style, consult [PEP 8.](https://www.python.org/dev/peps/pep-0008/) It's the AP Style Guide (that's a journo thing) for Python.\n",
    "\n",
    "Here's how you would create variables for integers, floats and Booleans."
   ]
  },
  {
   "cell_type": "code",
   "execution_count": null,
   "metadata": {},
   "outputs": [],
   "source": []
  },
  {
   "cell_type": "markdown",
   "metadata": {},
   "source": [
    "Play around with these, try combining them to see what happens. Try multiplying them or dividing them."
   ]
  },
  {
   "cell_type": "code",
   "execution_count": null,
   "metadata": {},
   "outputs": [],
   "source": []
  },
  {
   "cell_type": "code",
   "execution_count": null,
   "metadata": {},
   "outputs": [],
   "source": []
  },
  {
   "cell_type": "code",
   "execution_count": null,
   "metadata": {},
   "outputs": [],
   "source": []
  },
  {
   "cell_type": "code",
   "execution_count": null,
   "metadata": {},
   "outputs": [],
   "source": []
  },
  {
   "cell_type": "code",
   "execution_count": null,
   "metadata": {},
   "outputs": [],
   "source": []
  },
  {
   "cell_type": "markdown",
   "metadata": {},
   "source": [
    "Note that some words are special or reserved in Python. We can't name our integer varial int or our float simply float.\n",
    "\n",
    "The same goes with conditional words: and, or, in, if, is, not, for...\n",
    "\n",
    "These can be used as building blocks to create conditions. Consider:"
   ]
  },
  {
   "cell_type": "code",
   "execution_count": null,
   "metadata": {},
   "outputs": [],
   "source": []
  },
  {
   "cell_type": "markdown",
   "metadata": {},
   "source": [
    "Note the double equal ==. That's the Python equivalent for a single on your calculator. And != is the equivalent of not equal.\n",
    "\n",
    "And note the indentation - it's four spaces, and it's important for Python. Some text editors (Jupyter notebook or Sublime Text, for instance) will automatically indent properly. But not all tabs are four spaces. So use caution!\n",
    "\n",
    "Also note the capitalization of True and False. And the fact that those reserved/special words show up as green."
   ]
  },
  {
   "cell_type": "markdown",
   "metadata": {},
   "source": [
    "### Lists & dictionaries\n",
    "You might want to create a variable that includes several items, like a list of numbers. For that, Python uses lists: surrounded by brackets and separated by commas. You might think of it as a single row in Excel."
   ]
  },
  {
   "cell_type": "code",
   "execution_count": null,
   "metadata": {},
   "outputs": [],
   "source": []
  },
  {
   "cell_type": "markdown",
   "metadata": {},
   "source": [
    "Notice what appears when we ask for list item No. 1 to be printed - it gets the second item. It's important to note and remember that Python counts things starting a zero. \n",
    "\n",
    "You may also add or delete items from a list. And determine the length of the list."
   ]
  },
  {
   "cell_type": "code",
   "execution_count": null,
   "metadata": {},
   "outputs": [],
   "source": []
  },
  {
   "cell_type": "code",
   "execution_count": null,
   "metadata": {},
   "outputs": [],
   "source": []
  },
  {
   "cell_type": "markdown",
   "metadata": {},
   "source": [
    "Note that when we appended something, we used parentheses.\n",
    "\n",
    "Now let's make a dictionary. This creates sets of related values, with a key followed by a value for that key. For dictionaries, we use curly braces."
   ]
  },
  {
   "cell_type": "code",
   "execution_count": null,
   "metadata": {},
   "outputs": [],
   "source": []
  },
  {
   "cell_type": "code",
   "execution_count": null,
   "metadata": {},
   "outputs": [],
   "source": []
  },
  {
   "cell_type": "markdown",
   "metadata": {},
   "source": [
    "One other basic concept that typically combines many of these elements is a function. You might use a series of functions (building blocks) to achieve your programming goals. Here's an example of one "
   ]
  },
  {
   "cell_type": "code",
   "execution_count": null,
   "metadata": {},
   "outputs": [],
   "source": []
  },
  {
   "cell_type": "markdown",
   "metadata": {},
   "source": [
    "### Loops\n",
    "We've done an \"if/else\" conditional statement.\n",
    "\n",
    "We can also control what we're getting from files, URLs or other code by using \"for\" loops.\n",
    "\n",
    "For (heh) instance, instead of using individual print statements (tedious, especially if you misspell pring, i mean, print, all the time), you can use a loop to call each item in the list.\n",
    "\n",
    "Here's the thinking behind a for loop in what's called pseudocode. This is a good way to draft out what you're trying to do with your code::\n",
    "\n",
    "for each item in the list:\n",
    "    do something\n",
    "    maybe another thing\n",
    "    maybe more stuff even\n",
    "\n",
    "Let's try it with my_list."
   ]
  },
  {
   "cell_type": "code",
   "execution_count": null,
   "metadata": {},
   "outputs": [],
   "source": []
  },
  {
   "cell_type": "markdown",
   "metadata": {},
   "source": [
    "How about a loop that prints sentences of they key and the value in person_data? We'll add white space, use addition, and rememer when you need quote marks."
   ]
  },
  {
   "cell_type": "code",
   "execution_count": null,
   "metadata": {},
   "outputs": [],
   "source": []
  },
  {
   "cell_type": "markdown",
   "metadata": {},
   "source": [
    "So, this is just a taste of Python. It's enough to give you a sense of the language and how Jupyter notebooks are used.\n",
    "\n",
    "Check out some of the resources on the github repo readme page for more ideas."
   ]
  }
 ],
 "metadata": {
  "kernelspec": {
   "display_name": "Python 3",
   "language": "python",
   "name": "python3"
  },
  "language_info": {
   "codemirror_mode": {
    "name": "ipython",
    "version": 3
   },
   "file_extension": ".py",
   "mimetype": "text/x-python",
   "name": "python",
   "nbconvert_exporter": "python",
   "pygments_lexer": "ipython3",
   "version": "3.7.4"
  }
 },
 "nbformat": 4,
 "nbformat_minor": 2
}
